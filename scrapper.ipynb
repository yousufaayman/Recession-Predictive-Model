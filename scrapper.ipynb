{
 "cells": [
  {
   "cell_type": "markdown",
   "metadata": {},
   "source": [
    "# Twitter Web Scrapper "
   ]
  },
  {
   "cell_type": "markdown",
   "metadata": {},
   "source": [
    "## Importing Selenium & Time Module"
   ]
  },
  {
   "cell_type": "code",
   "execution_count": 63,
   "metadata": {},
   "outputs": [],
   "source": [
    "from selenium import webdriver\n",
    "from selenium.webdriver.chrome.service import Service\n",
    "from selenium.webdriver.chrome.options import Options\n",
    "from selenium.webdriver.support.ui import WebDriverWait\n",
    "from selenium.webdriver.common.by import By\n",
    "from selenium.webdriver.support import expected_conditions as EC\n",
    "import time"
   ]
  },
  {
   "cell_type": "markdown",
   "metadata": {},
   "source": [
    "## Defining Function to intialize scrapper"
   ]
  },
  {
   "cell_type": "code",
   "execution_count": 91,
   "metadata": {},
   "outputs": [],
   "source": [
    "def xScrapper(link, credentials):    \n",
    "    driverOpts = Options()\n",
    "\n",
    "    driverOpts.headless = False\n",
    "    \n",
    "    driver = webdriver.Chrome(options=driverOpts)\n",
    "\n",
    "    driver.get(link)\n",
    "    \n",
    "    waitToLoad = WebDriverWait(driver, 20)\n",
    "    waitToLoad.until(EC.element_to_be_clickable((By.CSS_SELECTOR, '[autocomplete=\"username\"]'))).send_keys(credentials[0])\n",
    "    driver.find_element(By.XPATH, (\"//*[contains(text(), 'Next')]\")).click();\n",
    "    waitToLoad.until(EC.element_to_be_clickable((By.CSS_SELECTOR, '[autocomplete=\"current-password\"]'))).send_keys(credentials[1])\n",
    "    waitToLoad.until(EC.element_to_be_clickable((By.CSS_SELECTOR, \"div[data-tb-test-id='DownloadCrosstab-Button'][role='button']\"))).click()\n",
    "\n",
    "    time.sleep(10)\n",
    "    \n",
    "    driver.execute_script('window.scrollTo(0, document.body.scrollHeight);')\n",
    "    "
   ]
  },
  {
   "cell_type": "code",
   "execution_count": 92,
   "metadata": {},
   "outputs": [
    {
     "ename": "TimeoutException",
     "evalue": "Message: \nStacktrace:\n\tGetHandleVerifier [0x00007FF6BDF8AD22+56930]\n\t(No symbol) [0x00007FF6BDEFF622]\n\t(No symbol) [0x00007FF6BDDB42E5]\n\t(No symbol) [0x00007FF6BDDF98ED]\n\t(No symbol) [0x00007FF6BDDF9A2C]\n\t(No symbol) [0x00007FF6BDE3A967]\n\t(No symbol) [0x00007FF6BDE1BCDF]\n\t(No symbol) [0x00007FF6BDE381E2]\n\t(No symbol) [0x00007FF6BDE1BA43]\n\t(No symbol) [0x00007FF6BDDED438]\n\t(No symbol) [0x00007FF6BDDEE4D1]\n\tGetHandleVerifier [0x00007FF6BE306AAD+3709933]\n\tGetHandleVerifier [0x00007FF6BE35FFED+4075821]\n\tGetHandleVerifier [0x00007FF6BE35817F+4043455]\n\tGetHandleVerifier [0x00007FF6BE029756+706710]\n\t(No symbol) [0x00007FF6BDF0B8FF]\n\t(No symbol) [0x00007FF6BDF06AE4]\n\t(No symbol) [0x00007FF6BDF06C3C]\n\t(No symbol) [0x00007FF6BDEF68F4]\n\tBaseThreadInitThunk [0x00007FFB4153257D+29]\n\tRtlUserThreadStart [0x00007FFB4266AA58+40]\n",
     "output_type": "error",
     "traceback": [
      "\u001b[1;31m---------------------------------------------------------------------------\u001b[0m",
      "\u001b[1;31mTimeoutException\u001b[0m                          Traceback (most recent call last)",
      "\u001b[1;32ms:\\CS Projects\\Projects\\Recession Sentiment Analysis\\scrapper.ipynb Cell 6\u001b[0m line \u001b[0;36m3\n\u001b[0;32m      <a href='vscode-notebook-cell:/s%3A/CS%20Projects/Projects/Recession%20Sentiment%20Analysis/scrapper.ipynb#X20sZmlsZQ%3D%3D?line=0'>1</a>\u001b[0m credentials \u001b[39m=\u001b[39m [\u001b[39m\"\u001b[39m\u001b[39mtesteruserdata\u001b[39m\u001b[39m\"\u001b[39m, \u001b[39m\"\u001b[39m\u001b[39mTest8dcln\u001b[39m\u001b[39m\"\u001b[39m]\n\u001b[1;32m----> <a href='vscode-notebook-cell:/s%3A/CS%20Projects/Projects/Recession%20Sentiment%20Analysis/scrapper.ipynb#X20sZmlsZQ%3D%3D?line=2'>3</a>\u001b[0m xScrapper(\u001b[39m\"\u001b[39;49m\u001b[39mhttps://twitter.com/i/flow/login\u001b[39;49m\u001b[39m\"\u001b[39;49m, credentials)\n",
      "\u001b[1;32ms:\\CS Projects\\Projects\\Recession Sentiment Analysis\\scrapper.ipynb Cell 6\u001b[0m line \u001b[0;36m1\n\u001b[0;32m     <a href='vscode-notebook-cell:/s%3A/CS%20Projects/Projects/Recession%20Sentiment%20Analysis/scrapper.ipynb#X20sZmlsZQ%3D%3D?line=11'>12</a>\u001b[0m driver\u001b[39m.\u001b[39mfind_element(By\u001b[39m.\u001b[39mXPATH, (\u001b[39m\"\u001b[39m\u001b[39m//*[contains(text(), \u001b[39m\u001b[39m'\u001b[39m\u001b[39mNext\u001b[39m\u001b[39m'\u001b[39m\u001b[39m)]\u001b[39m\u001b[39m\"\u001b[39m))\u001b[39m.\u001b[39mclick();\n\u001b[0;32m     <a href='vscode-notebook-cell:/s%3A/CS%20Projects/Projects/Recession%20Sentiment%20Analysis/scrapper.ipynb#X20sZmlsZQ%3D%3D?line=12'>13</a>\u001b[0m waitToLoad\u001b[39m.\u001b[39muntil(EC\u001b[39m.\u001b[39melement_to_be_clickable((By\u001b[39m.\u001b[39mCSS_SELECTOR, \u001b[39m'\u001b[39m\u001b[39m[autocomplete=\u001b[39m\u001b[39m\"\u001b[39m\u001b[39mcurrent-password\u001b[39m\u001b[39m\"\u001b[39m\u001b[39m]\u001b[39m\u001b[39m'\u001b[39m)))\u001b[39m.\u001b[39msend_keys(credentials[\u001b[39m1\u001b[39m])\n\u001b[1;32m---> <a href='vscode-notebook-cell:/s%3A/CS%20Projects/Projects/Recession%20Sentiment%20Analysis/scrapper.ipynb#X20sZmlsZQ%3D%3D?line=13'>14</a>\u001b[0m waitToLoad\u001b[39m.\u001b[39;49muntil(EC\u001b[39m.\u001b[39;49melement_to_be_clickable((By\u001b[39m.\u001b[39;49mXPATH, (\u001b[39m\"\u001b[39;49m\u001b[39m//*[contains(text(), \u001b[39;49m\u001b[39m'\u001b[39;49m\u001b[39mNext\u001b[39;49m\u001b[39m'\u001b[39;49m\u001b[39m)]\u001b[39;49m\u001b[39m\"\u001b[39;49m))))\u001b[39m.\u001b[39mclick()\n\u001b[0;32m     <a href='vscode-notebook-cell:/s%3A/CS%20Projects/Projects/Recession%20Sentiment%20Analysis/scrapper.ipynb#X20sZmlsZQ%3D%3D?line=15'>16</a>\u001b[0m time\u001b[39m.\u001b[39msleep(\u001b[39m10\u001b[39m)\n\u001b[0;32m     <a href='vscode-notebook-cell:/s%3A/CS%20Projects/Projects/Recession%20Sentiment%20Analysis/scrapper.ipynb#X20sZmlsZQ%3D%3D?line=17'>18</a>\u001b[0m driver\u001b[39m.\u001b[39mexecute_script(\u001b[39m'\u001b[39m\u001b[39mwindow.scrollTo(0, document.body.scrollHeight);\u001b[39m\u001b[39m'\u001b[39m)\n",
      "File \u001b[1;32mc:\\Python312\\Lib\\site-packages\\selenium\\webdriver\\support\\wait.py:105\u001b[0m, in \u001b[0;36mWebDriverWait.until\u001b[1;34m(self, method, message)\u001b[0m\n\u001b[0;32m    103\u001b[0m     \u001b[39mif\u001b[39;00m time\u001b[39m.\u001b[39mmonotonic() \u001b[39m>\u001b[39m end_time:\n\u001b[0;32m    104\u001b[0m         \u001b[39mbreak\u001b[39;00m\n\u001b[1;32m--> 105\u001b[0m \u001b[39mraise\u001b[39;00m TimeoutException(message, screen, stacktrace)\n",
      "\u001b[1;31mTimeoutException\u001b[0m: Message: \nStacktrace:\n\tGetHandleVerifier [0x00007FF6BDF8AD22+56930]\n\t(No symbol) [0x00007FF6BDEFF622]\n\t(No symbol) [0x00007FF6BDDB42E5]\n\t(No symbol) [0x00007FF6BDDF98ED]\n\t(No symbol) [0x00007FF6BDDF9A2C]\n\t(No symbol) [0x00007FF6BDE3A967]\n\t(No symbol) [0x00007FF6BDE1BCDF]\n\t(No symbol) [0x00007FF6BDE381E2]\n\t(No symbol) [0x00007FF6BDE1BA43]\n\t(No symbol) [0x00007FF6BDDED438]\n\t(No symbol) [0x00007FF6BDDEE4D1]\n\tGetHandleVerifier [0x00007FF6BE306AAD+3709933]\n\tGetHandleVerifier [0x00007FF6BE35FFED+4075821]\n\tGetHandleVerifier [0x00007FF6BE35817F+4043455]\n\tGetHandleVerifier [0x00007FF6BE029756+706710]\n\t(No symbol) [0x00007FF6BDF0B8FF]\n\t(No symbol) [0x00007FF6BDF06AE4]\n\t(No symbol) [0x00007FF6BDF06C3C]\n\t(No symbol) [0x00007FF6BDEF68F4]\n\tBaseThreadInitThunk [0x00007FFB4153257D+29]\n\tRtlUserThreadStart [0x00007FFB4266AA58+40]\n"
     ]
    }
   ],
   "source": [
    "credentials = [\"testeruserdata\", \"Test8dcln\"]\n",
    "\n",
    "xScrapper(\"https://twitter.com/i/flow/login\", credentials)"
   ]
  }
 ],
 "metadata": {
  "kernelspec": {
   "display_name": "Python 3",
   "language": "python",
   "name": "python3"
  },
  "language_info": {
   "codemirror_mode": {
    "name": "ipython",
    "version": 3
   },
   "file_extension": ".py",
   "mimetype": "text/x-python",
   "name": "python",
   "nbconvert_exporter": "python",
   "pygments_lexer": "ipython3",
   "version": "3.12.0"
  }
 },
 "nbformat": 4,
 "nbformat_minor": 2
}
