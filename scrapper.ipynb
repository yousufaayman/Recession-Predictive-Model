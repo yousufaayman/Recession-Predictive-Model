{
 "cells": [
  {
   "cell_type": "markdown",
   "metadata": {},
   "source": [
    "# Twitter Web Scrapper "
   ]
  },
  {
   "cell_type": "markdown",
   "metadata": {},
   "source": [
    "## Importing Modules"
   ]
  },
  {
   "cell_type": "code",
   "execution_count": 15,
   "metadata": {},
   "outputs": [],
   "source": [
    "#Selenium Imports\n",
    "from selenium import webdriver\n",
    "from selenium.webdriver.chrome.options import Options\n",
    "from selenium.webdriver.support.ui import WebDriverWait\n",
    "from selenium.webdriver.common.by import By\n",
    "from selenium.webdriver.support import expected_conditions as EC\n",
    "from selenium.webdriver.common.keys import Keys\n",
    "from selenium.common.exceptions import NoSuchWindowException\n",
    "#Threading library\n",
    "import threading\n",
    "#Pandas\n",
    "import pandas as pd\n",
    "#Datetime Modules\n",
    "from datetime import datetime\n",
    "import time"
   ]
  },
  {
   "cell_type": "markdown",
   "metadata": {},
   "source": [
    "## Twitter Scrapper"
   ]
  },
  {
   "cell_type": "code",
   "execution_count": 2,
   "metadata": {},
   "outputs": [],
   "source": [
    "def twitterScrapper(link, credentials, searchFilter, dataSet):    \n",
    "    driverOpts = Options()\n",
    "\n",
    "    driverOpts.headless = True\n",
    "    \n",
    "    driver = webdriver.Chrome(options=driverOpts)\n",
    "\n",
    "    driver.get(link)\n",
    "    try:\n",
    "        # Login to twitter\n",
    "        waitToLoad = WebDriverWait(driver, 20)\n",
    "        waitToLoad.until(EC.element_to_be_clickable((By.CSS_SELECTOR, '[autocomplete=\"username\"]'))).send_keys(credentials[0])\n",
    "        driver.find_element(By.XPATH, (\"//*[contains(text(), 'Next')]\")).click();\n",
    "        waitToLoad.until(EC.element_to_be_clickable((By.CSS_SELECTOR, '[autocomplete=\"current-password\"]'))).send_keys(credentials[1])\n",
    "        waitToLoad.until(EC.element_to_be_clickable((By.CSS_SELECTOR, \"div[data-testid='LoginForm_Login_Button'][role='button']\"))).click()\n",
    "        \n",
    "        #Add Search Filter\n",
    "        searchBar = waitToLoad.until(EC.element_to_be_clickable((By.CSS_SELECTOR, \"input[data-testid='SearchBox_Search_Input'][role='combobox']\")))\n",
    "        searchBar.send_keys(searchFilter)\n",
    "        searchBar.send_keys(Keys.ENTER)\n",
    "        \n",
    "        # Sort by Latest\n",
    "        latestTab = waitToLoad.until(EC.element_to_be_clickable((By.XPATH, \"/html/body/div[1]/div/div/div[2]/main/div/div/div/div/div/div[1]/div[1]/div[2]/nav/div/div[2]/div/div[2]//*[contains(text(), 'Latest')]\")))\n",
    "        latestTab.click()\n",
    "        \n",
    "        #Scrapping Tweets\n",
    "        scrappedUserNames = []\n",
    "        scrappedTweets = []\n",
    "        scrappedTweetDate = []\n",
    "\n",
    "        prevHeight = driver.execute_script('return document.body.scrollHeight')\n",
    "\n",
    "        while True:\n",
    "            time.sleep(10)\n",
    "\n",
    "            users = driver.find_elements(By.XPATH, (\"//div[@data-testid='User-Name']/div[1]/div[1]/a\"))\n",
    "            tweets = driver.find_elements(By.XPATH, (\"//div[@data-testid='tweetText']\"))\n",
    "            tweetDates = driver.find_elements(By.XPATH, (\"//div[@data-testid='User-Name']/div[2]/div[1]/div[3]/a/time\"))\n",
    "            \n",
    "            scrappedUserNames = [user.text for user in users]\n",
    "                \n",
    "            scrappedTweets = [tweet.text for tweet in tweets]\n",
    "                \n",
    "            scrappedTweetDate = [date.text for date in tweetDates]\n",
    "\n",
    "            driver.execute_script('window.scrollTo(0, document.body.scrollHeight);')\n",
    "            currentHeight = driver.execute_script('return document.body.scrollHeight')\n",
    "\n",
    "            if (currentHeight == prevHeight) or (len(scrappedTweets) > 200):\n",
    "                break\n",
    "            \n",
    "            prevHeight = currentHeight\n",
    "            \n",
    "    except NoSuchWindowException:\n",
    "          print(\"Selenium window closed unexpectedly.\")\n",
    "        \n",
    "\n",
    "\n",
    "    \n",
    "    for i in range(len(scrappedUserNames)):\n",
    "        dataSet[scrappedUserNames[i]] = [scrappedTweets[i], scrappedTweetDate[i]]"
   ]
  },
  {
   "cell_type": "code",
   "execution_count": 23,
   "metadata": {},
   "outputs": [
    {
     "name": "stdout",
     "output_type": "stream",
     "text": [
      "Selenium window closed unexpectedly.\n",
      "Selenium window closed unexpectedly.\n"
     ]
    }
   ],
   "source": [
    "linkTwitter = \"https://twitter.com/i/flow/login\"\n",
    "twitterCredentials = [\"ScrpperR16322\", \"Test8dcln\"]\n",
    "searchFilter = '(\"business confidence\" OR \"economic growth\" OR \"fiscal policy\" OR \"monetary policy\" OR \"interest rates\" OR \"income inequality\" OR \"financial stability\" OR \"labor market\" OR \"economic indicators\" OR \"economic recovery\" OR \"cost of living\") until:2009-01-01 since:2007-01-01 -filter:links -filter:replies'\n",
    "searchFilter2 = '(\"economy\" OR \"economic\" OR \"job market\" OR \"unemployment\" OR \"inflation\" OR \"recession\" OR \"stock market\" OR \"GDP\" OR \"consumer spending\" ) until:2009-01-01 since:2007-01-01 -filter:links -filter:replies'\n",
    "scrappedTwitterData = {}\n",
    "\n",
    "th1 = threading.Thread(target=twitterScrapper, args=(linkTwitter, twitterCredentials, searchFilter, scrappedTwitterData))\n",
    "th2 = threading.Thread(target=twitterScrapper, args=(linkTwitter, twitterCredentials, searchFilter2, scrappedTwitterData))\n",
    "\n",
    "\n",
    "th1.start()\n",
    "th2.start()\n",
    "\n",
    "th1.join()\n",
    "th2.join()"
   ]
  },
  {
   "cell_type": "markdown",
   "metadata": {},
   "source": [
    "## Facebook Scrapper"
   ]
  },
  {
   "cell_type": "code",
   "execution_count": 39,
   "metadata": {},
   "outputs": [],
   "source": [
    "def isValidDate(text):\n",
    "    try:\n",
    "        datetime.strptime(text, '%d %B %Y')\n",
    "        return True\n",
    "    except ValueError:\n",
    "        return False\n",
    "\n",
    "def facebookScrapper(link, searchKeywords, credentials, dataSet, searchDates):\n",
    "     driverOpts = Options()\n",
    "\n",
    "     driverOpts.headless = False\n",
    "\n",
    "     driver = webdriver.Chrome(options=driverOpts)\n",
    "\n",
    "     driver.get(link)\n",
    "     try:\n",
    "          # Login to facebook\n",
    "          waitToLoad = WebDriverWait(driver, 20)\n",
    "          waitToLoad.until(EC.element_to_be_clickable((By.XPATH, \"//input[@data-testid='royal_email']\"))).send_keys(credentials[0])\n",
    "          waitToLoad.until(EC.element_to_be_clickable((By.XPATH, \"//input[@data-testid='royal_pass']\"))).send_keys(credentials[1])\n",
    "          waitToLoad.until(EC.element_to_be_clickable((By.XPATH, \"//button[@data-testid='royal_login_button']\"))).click()\n",
    "          \n",
    "          scrappedFacebookUserNames = []\n",
    "          scrappedFacebookPosts = []\n",
    "          scrappedFacebookDate = []\n",
    "          \n",
    "          waitToLoad.until(EC.element_to_be_clickable((By.XPATH, \"/html\"))).click()\n",
    "          \n",
    "          # Scrapping\n",
    "          for keyword in searchKeywords:\n",
    "               for date in searchDates:\n",
    "                    time.sleep(5)\n",
    "                    #Searching\n",
    "                    searchFacebook = waitToLoad.until(EC.element_to_be_clickable((By.CSS_SELECTOR, '[placeholder=\"Search Facebook\"]')))\n",
    "                    searchFacebook.clear()\n",
    "                    searchFacebook.send_keys(keyword)\n",
    "                    searchFacebook.send_keys(Keys.ENTER)\n",
    "                    \n",
    "                    #Selecting Search Criteria\n",
    "                    waitToLoad.until(EC.element_to_be_clickable((By.XPATH, \"//span[contains(text(),'Posts')]\"))).click()\n",
    "                    waitToLoad.until(EC.element_to_be_clickable((By.XPATH, \"//span[contains(text(),'Date posted')]\"))).click()\n",
    "                    waitToLoad.until(EC.element_to_be_clickable((By.XPATH, f\"//span[contains(text(),'{date}')]\"))).click()\n",
    "                    \n",
    "                    #Selecting and Storing information\n",
    "                    prevHeight = driver.execute_script('return document.body.scrollHeight')\n",
    "                    while True:\n",
    "                         time.sleep(5)\n",
    "\n",
    "                         fbUsers = driver.find_elements(By.XPATH, \"//a[contains(@class, 'x1i10hfl') and contains(@class, 'xjbqb8w') and contains(@class, 'x1ejq31n') and contains(@class, 'xd10rxx') and contains(@class, 'x1sy0etr') and contains(@class, 'x17r0tee') and contains(@class, 'x972fbf') and contains(@class, 'xcfux6l') and contains(@class, 'x1qhh985') and contains(@class, 'xm0m39n') and contains(@class, 'x9f619') and contains(@class, 'x1ypdohk') and contains(@class, 'xt0psk2') and contains(@class, 'xe8uvvx') and contains(@class, 'xdj266r') and contains(@class, 'x11i5rnm') and contains(@class, 'xat24cr') and contains(@class, 'x1mh8g0r') and contains(@class, 'xexx8yu') and contains(@class, 'x4uap5') and contains(@class, 'x18d9i69') and contains(@class, 'xkhd6sd') and contains(@class, 'x16tdsg8') and contains(@class, 'x1hl2dhg') and contains(@class, 'xggy1nq') and contains(@class, 'x1a2a7pz') and contains(@class, 'xt0b8zv') and contains(@class, 'xzsf02u') and contains(@class, 'x1s688f')]\")\n",
    "                         fbDates = driver.find_elements(By.XPATH, \"//a[contains(@class, 'x1i10hfl') and contains(@class, 'xjbqb8w') and contains(@class, 'x1ejq31n') and contains(@class, 'xd10rxx') and contains(@class, 'x1sy0etr') and contains(@class, 'x17r0tee') and contains(@class, 'x972fbf') and contains(@class, 'xcfux6l') and contains(@class, 'x1qhh985') and contains(@class, 'xm0m39n') and contains(@class, 'x9f619') and contains(@class, 'x1ypdohk') and contains(@class, 'xt0psk2') and contains(@class, 'xe8uvvx') and contains(@class, 'xdj266r') and contains(@class, 'x11i5rnm') and contains(@class, 'xat24cr') and contains(@class, 'x1mh8g0r') and contains(@class, 'xexx8yu') and contains(@class, 'x4uap5') and contains(@class, 'x18d9i69') and contains(@class, 'xkhd6sd') and contains(@class, 'x16tdsg8') and contains(@class, 'x1hl2dhg') and contains(@class, 'xggy1nq') and contains(@class, 'x1a2a7pz') and contains(@class, 'x1heor9g') and contains(@class, 'xt0b8zv') and contains(@class, 'xo1l8bm')]\")\n",
    "                         fbPosts = fbPosts = driver.find_elements(By.XPATH, \"//div[contains(@class, 'xdj266r') and contains(@class, 'x11i5rnm') and contains(@class, 'xat24cr') and contains(@class, 'x1mh8g0r') and contains(@class, 'x1vvkbs')]\")\n",
    "                                        \n",
    "                         scrappedFacebookDate = [item.text for item in fbDates if isValidDate(item.text)]\n",
    "                              \n",
    "                         scrappedFacebookUserNames = [user.text for user in fbUsers if user.text != \"See more\"]\n",
    "                              \n",
    "                         scrappedFacebookPosts = [post.text for post in fbPosts]\n",
    "\n",
    "                         driver.execute_script('window.scrollTo(0, document.body.scrollHeight);')\n",
    "                         currentHeight = driver.execute_script('return document.body.scrollHeight')\n",
    "\n",
    "                         if (currentHeight == prevHeight) or (len(scrappedFacebookPosts) > 200):\n",
    "                              break\n",
    "                         \n",
    "                         prevHeight = currentHeight\n",
    "                         \n",
    "                         print(scrappedFacebookUserNames)\n",
    "                         print(scrappedFacebookPosts)\n",
    "                         print(scrappedFacebookDate)\n",
    "               \n",
    "     except NoSuchWindowException:\n",
    "          print(\"Selenium window closed unexpectedly.\")\n",
    "          \n",
    "     print(len(scrappedFacebookPosts))\n",
    "     print(len(scrappedFacebookUserNames))"
   ]
  },
  {
   "cell_type": "code",
   "execution_count": 42,
   "metadata": {},
   "outputs": [
    {
     "name": "stdout",
     "output_type": "stream",
     "text": [
      "['The Onion', 'Fox News', 'Kamala Harris', 'http://www.facebook.com/video/video.php?v=553058559053', 'http://www.facebook.com/video/video.php?v=553063234683', 'Fox News']\n",
      "[\"With the economy sliding deeper into a recession, panelists discuss whether it's time to stop throwing our money into a massive pit out in the desert.\", 'John McCain and Barack Obama go head-to-head on  the economy and foreign policy at the first presidential debate', 'One Economy\\'s \"If I Were President\"', 'President Bush on state of the economy']\n",
      "['13 November 2008', '27 September 2008', '31 August 2008', '25 September 2008']\n",
      "['The Onion', 'Fox News', 'Kamala Harris', 'http://www.facebook.com/video/video.php?v=553058559053', 'http://www.facebook.com/video/video.php?v=553063234683', 'Fox News', 'Daily Naya Diganta']\n",
      "[\"With the economy sliding deeper into a recession, panelists discuss whether it's time to stop throwing our money into a massive pit out in the desert.\", 'John McCain and Barack Obama go head-to-head on  the economy and foreign policy at the first presidential debate', 'One Economy\\'s \"If I Were President\"', 'President Bush on state of the economy', 'Crashing World Economy.']\n",
      "['13 November 2008', '27 September 2008', '31 August 2008', '25 September 2008', '12 October 2008']\n",
      "['Mobile Baykeeper', 'Rudy Giuliani for Governor of New York', 'ECON 101 004 (Gateman)', 'Raise the Minimum Wage', \"Let's do businesses in Shipping Industry\", 'Free Student Library', 'INDIA 2020']\n",
      "['Healthy Economy', \"Jack, the economy was only good because of the thousands of people who made millions upon millions of dollars off of the Microsoft boom.  Were it not for Bill Gates, Clinton's fiscal and monetary policy would have driven our economy into a depression.  Did you notice that at the end of his term, a recession seemed imminent, but then when Bush took office and instituted the tax cuts, the economy started soaring?  That's because the right is right on the economy.  Economic left… See more\", \"traditional economy - economy that revolves around cultural or habitual traits. Ex. some small towns in which family business is passed down -> blacksmith's son becomes blacksmith and everyone's following this trend so the economy is basically stable and fixed.\", \">I never studied economics formally, but I think most of the arguments on this board don't seem to require one either\\nEconomics as taught is not science, but dogma.  It is quite akin to a theological education (which I have too).   Took about 5 years to get over my theology.  It took about 20 years to get over my economics.  Competition and costs that are well understood as primary concerns for the business (the micro economy) are completely irrelevant to society (the macro e… See more\", 'Dollar flat but sentiment on US economy negative', 'Economics', 'Economy and  Development in INDIA']\n",
      "['13 July 2007', '28 January 2007', '14 September 2007', '1 May 2007', '3 May 2007', '16 December 2007', '7 August 2007']\n"
     ]
    },
    {
     "ename": "KeyboardInterrupt",
     "evalue": "",
     "output_type": "error",
     "traceback": [
      "\u001b[1;31m---------------------------------------------------------------------------\u001b[0m",
      "\u001b[1;31mKeyboardInterrupt\u001b[0m                         Traceback (most recent call last)",
      "\u001b[1;32ms:\\CS Projects\\Recession-Predictive-Model\\scrapper.ipynb Cell 9\u001b[0m line \u001b[0;36m7\n\u001b[0;32m      <a href='vscode-notebook-cell:/s%3A/CS%20Projects/Recession-Predictive-Model/scrapper.ipynb#X13sZmlsZQ%3D%3D?line=3'>4</a>\u001b[0m searchDates \u001b[39m=\u001b[39m [\u001b[39m2007\u001b[39m,\u001b[39m2008\u001b[39m]\n\u001b[0;32m      <a href='vscode-notebook-cell:/s%3A/CS%20Projects/Recession-Predictive-Model/scrapper.ipynb#X13sZmlsZQ%3D%3D?line=4'>5</a>\u001b[0m scrappedFacebookData \u001b[39m=\u001b[39m {}\n\u001b[1;32m----> <a href='vscode-notebook-cell:/s%3A/CS%20Projects/Recession-Predictive-Model/scrapper.ipynb#X13sZmlsZQ%3D%3D?line=6'>7</a>\u001b[0m facebookScrapper(linkFacebook, searchKeywords, facebookCredentials, scrappedFacebookData, searchDates)\n",
      "\u001b[1;32ms:\\CS Projects\\Recession-Predictive-Model\\scrapper.ipynb Cell 9\u001b[0m line \u001b[0;36m4\n\u001b[0;32m     <a href='vscode-notebook-cell:/s%3A/CS%20Projects/Recession-Predictive-Model/scrapper.ipynb#X13sZmlsZQ%3D%3D?line=44'>45</a>\u001b[0m prevHeight \u001b[39m=\u001b[39m driver\u001b[39m.\u001b[39mexecute_script(\u001b[39m'\u001b[39m\u001b[39mreturn document.body.scrollHeight\u001b[39m\u001b[39m'\u001b[39m)\n\u001b[0;32m     <a href='vscode-notebook-cell:/s%3A/CS%20Projects/Recession-Predictive-Model/scrapper.ipynb#X13sZmlsZQ%3D%3D?line=45'>46</a>\u001b[0m \u001b[39mwhile\u001b[39;00m \u001b[39mTrue\u001b[39;00m:\n\u001b[1;32m---> <a href='vscode-notebook-cell:/s%3A/CS%20Projects/Recession-Predictive-Model/scrapper.ipynb#X13sZmlsZQ%3D%3D?line=46'>47</a>\u001b[0m      time\u001b[39m.\u001b[39;49msleep(\u001b[39m5\u001b[39;49m)\n\u001b[0;32m     <a href='vscode-notebook-cell:/s%3A/CS%20Projects/Recession-Predictive-Model/scrapper.ipynb#X13sZmlsZQ%3D%3D?line=48'>49</a>\u001b[0m      fbUsers \u001b[39m=\u001b[39m driver\u001b[39m.\u001b[39mfind_elements(By\u001b[39m.\u001b[39mXPATH, \u001b[39m\"\u001b[39m\u001b[39m//a[contains(@class, \u001b[39m\u001b[39m'\u001b[39m\u001b[39mx1i10hfl\u001b[39m\u001b[39m'\u001b[39m\u001b[39m) and contains(@class, \u001b[39m\u001b[39m'\u001b[39m\u001b[39mxjbqb8w\u001b[39m\u001b[39m'\u001b[39m\u001b[39m) and contains(@class, \u001b[39m\u001b[39m'\u001b[39m\u001b[39mx1ejq31n\u001b[39m\u001b[39m'\u001b[39m\u001b[39m) and contains(@class, \u001b[39m\u001b[39m'\u001b[39m\u001b[39mxd10rxx\u001b[39m\u001b[39m'\u001b[39m\u001b[39m) and contains(@class, \u001b[39m\u001b[39m'\u001b[39m\u001b[39mx1sy0etr\u001b[39m\u001b[39m'\u001b[39m\u001b[39m) and contains(@class, \u001b[39m\u001b[39m'\u001b[39m\u001b[39mx17r0tee\u001b[39m\u001b[39m'\u001b[39m\u001b[39m) and contains(@class, \u001b[39m\u001b[39m'\u001b[39m\u001b[39mx972fbf\u001b[39m\u001b[39m'\u001b[39m\u001b[39m) and contains(@class, \u001b[39m\u001b[39m'\u001b[39m\u001b[39mxcfux6l\u001b[39m\u001b[39m'\u001b[39m\u001b[39m) and contains(@class, \u001b[39m\u001b[39m'\u001b[39m\u001b[39mx1qhh985\u001b[39m\u001b[39m'\u001b[39m\u001b[39m) and contains(@class, \u001b[39m\u001b[39m'\u001b[39m\u001b[39mxm0m39n\u001b[39m\u001b[39m'\u001b[39m\u001b[39m) and contains(@class, \u001b[39m\u001b[39m'\u001b[39m\u001b[39mx9f619\u001b[39m\u001b[39m'\u001b[39m\u001b[39m) and contains(@class, \u001b[39m\u001b[39m'\u001b[39m\u001b[39mx1ypdohk\u001b[39m\u001b[39m'\u001b[39m\u001b[39m) and contains(@class, \u001b[39m\u001b[39m'\u001b[39m\u001b[39mxt0psk2\u001b[39m\u001b[39m'\u001b[39m\u001b[39m) and contains(@class, \u001b[39m\u001b[39m'\u001b[39m\u001b[39mxe8uvvx\u001b[39m\u001b[39m'\u001b[39m\u001b[39m) and contains(@class, \u001b[39m\u001b[39m'\u001b[39m\u001b[39mxdj266r\u001b[39m\u001b[39m'\u001b[39m\u001b[39m) and contains(@class, \u001b[39m\u001b[39m'\u001b[39m\u001b[39mx11i5rnm\u001b[39m\u001b[39m'\u001b[39m\u001b[39m) and contains(@class, \u001b[39m\u001b[39m'\u001b[39m\u001b[39mxat24cr\u001b[39m\u001b[39m'\u001b[39m\u001b[39m) and contains(@class, \u001b[39m\u001b[39m'\u001b[39m\u001b[39mx1mh8g0r\u001b[39m\u001b[39m'\u001b[39m\u001b[39m) and contains(@class, \u001b[39m\u001b[39m'\u001b[39m\u001b[39mxexx8yu\u001b[39m\u001b[39m'\u001b[39m\u001b[39m) and contains(@class, \u001b[39m\u001b[39m'\u001b[39m\u001b[39mx4uap5\u001b[39m\u001b[39m'\u001b[39m\u001b[39m) and contains(@class, \u001b[39m\u001b[39m'\u001b[39m\u001b[39mx18d9i69\u001b[39m\u001b[39m'\u001b[39m\u001b[39m) and contains(@class, \u001b[39m\u001b[39m'\u001b[39m\u001b[39mxkhd6sd\u001b[39m\u001b[39m'\u001b[39m\u001b[39m) and contains(@class, \u001b[39m\u001b[39m'\u001b[39m\u001b[39mx16tdsg8\u001b[39m\u001b[39m'\u001b[39m\u001b[39m) and contains(@class, \u001b[39m\u001b[39m'\u001b[39m\u001b[39mx1hl2dhg\u001b[39m\u001b[39m'\u001b[39m\u001b[39m) and contains(@class, \u001b[39m\u001b[39m'\u001b[39m\u001b[39mxggy1nq\u001b[39m\u001b[39m'\u001b[39m\u001b[39m) and contains(@class, \u001b[39m\u001b[39m'\u001b[39m\u001b[39mx1a2a7pz\u001b[39m\u001b[39m'\u001b[39m\u001b[39m) and contains(@class, \u001b[39m\u001b[39m'\u001b[39m\u001b[39mxt0b8zv\u001b[39m\u001b[39m'\u001b[39m\u001b[39m) and contains(@class, \u001b[39m\u001b[39m'\u001b[39m\u001b[39mxzsf02u\u001b[39m\u001b[39m'\u001b[39m\u001b[39m) and contains(@class, \u001b[39m\u001b[39m'\u001b[39m\u001b[39mx1s688f\u001b[39m\u001b[39m'\u001b[39m\u001b[39m)]\u001b[39m\u001b[39m\"\u001b[39m)\n\u001b[0;32m     <a href='vscode-notebook-cell:/s%3A/CS%20Projects/Recession-Predictive-Model/scrapper.ipynb#X13sZmlsZQ%3D%3D?line=49'>50</a>\u001b[0m      fbDates \u001b[39m=\u001b[39m driver\u001b[39m.\u001b[39mfind_elements(By\u001b[39m.\u001b[39mXPATH, \u001b[39m\"\u001b[39m\u001b[39m//a[contains(@class, \u001b[39m\u001b[39m'\u001b[39m\u001b[39mx1i10hfl\u001b[39m\u001b[39m'\u001b[39m\u001b[39m) and contains(@class, \u001b[39m\u001b[39m'\u001b[39m\u001b[39mxjbqb8w\u001b[39m\u001b[39m'\u001b[39m\u001b[39m) and contains(@class, \u001b[39m\u001b[39m'\u001b[39m\u001b[39mx1ejq31n\u001b[39m\u001b[39m'\u001b[39m\u001b[39m) and contains(@class, \u001b[39m\u001b[39m'\u001b[39m\u001b[39mxd10rxx\u001b[39m\u001b[39m'\u001b[39m\u001b[39m) and contains(@class, \u001b[39m\u001b[39m'\u001b[39m\u001b[39mx1sy0etr\u001b[39m\u001b[39m'\u001b[39m\u001b[39m) and contains(@class, \u001b[39m\u001b[39m'\u001b[39m\u001b[39mx17r0tee\u001b[39m\u001b[39m'\u001b[39m\u001b[39m) and contains(@class, \u001b[39m\u001b[39m'\u001b[39m\u001b[39mx972fbf\u001b[39m\u001b[39m'\u001b[39m\u001b[39m) and contains(@class, \u001b[39m\u001b[39m'\u001b[39m\u001b[39mxcfux6l\u001b[39m\u001b[39m'\u001b[39m\u001b[39m) and contains(@class, \u001b[39m\u001b[39m'\u001b[39m\u001b[39mx1qhh985\u001b[39m\u001b[39m'\u001b[39m\u001b[39m) and contains(@class, \u001b[39m\u001b[39m'\u001b[39m\u001b[39mxm0m39n\u001b[39m\u001b[39m'\u001b[39m\u001b[39m) and contains(@class, \u001b[39m\u001b[39m'\u001b[39m\u001b[39mx9f619\u001b[39m\u001b[39m'\u001b[39m\u001b[39m) and contains(@class, \u001b[39m\u001b[39m'\u001b[39m\u001b[39mx1ypdohk\u001b[39m\u001b[39m'\u001b[39m\u001b[39m) and contains(@class, \u001b[39m\u001b[39m'\u001b[39m\u001b[39mxt0psk2\u001b[39m\u001b[39m'\u001b[39m\u001b[39m) and contains(@class, \u001b[39m\u001b[39m'\u001b[39m\u001b[39mxe8uvvx\u001b[39m\u001b[39m'\u001b[39m\u001b[39m) and contains(@class, \u001b[39m\u001b[39m'\u001b[39m\u001b[39mxdj266r\u001b[39m\u001b[39m'\u001b[39m\u001b[39m) and contains(@class, \u001b[39m\u001b[39m'\u001b[39m\u001b[39mx11i5rnm\u001b[39m\u001b[39m'\u001b[39m\u001b[39m) and contains(@class, \u001b[39m\u001b[39m'\u001b[39m\u001b[39mxat24cr\u001b[39m\u001b[39m'\u001b[39m\u001b[39m) and contains(@class, \u001b[39m\u001b[39m'\u001b[39m\u001b[39mx1mh8g0r\u001b[39m\u001b[39m'\u001b[39m\u001b[39m) and contains(@class, \u001b[39m\u001b[39m'\u001b[39m\u001b[39mxexx8yu\u001b[39m\u001b[39m'\u001b[39m\u001b[39m) and contains(@class, \u001b[39m\u001b[39m'\u001b[39m\u001b[39mx4uap5\u001b[39m\u001b[39m'\u001b[39m\u001b[39m) and contains(@class, \u001b[39m\u001b[39m'\u001b[39m\u001b[39mx18d9i69\u001b[39m\u001b[39m'\u001b[39m\u001b[39m) and contains(@class, \u001b[39m\u001b[39m'\u001b[39m\u001b[39mxkhd6sd\u001b[39m\u001b[39m'\u001b[39m\u001b[39m) and contains(@class, \u001b[39m\u001b[39m'\u001b[39m\u001b[39mx16tdsg8\u001b[39m\u001b[39m'\u001b[39m\u001b[39m) and contains(@class, \u001b[39m\u001b[39m'\u001b[39m\u001b[39mx1hl2dhg\u001b[39m\u001b[39m'\u001b[39m\u001b[39m) and contains(@class, \u001b[39m\u001b[39m'\u001b[39m\u001b[39mxggy1nq\u001b[39m\u001b[39m'\u001b[39m\u001b[39m) and contains(@class, \u001b[39m\u001b[39m'\u001b[39m\u001b[39mx1a2a7pz\u001b[39m\u001b[39m'\u001b[39m\u001b[39m) and contains(@class, \u001b[39m\u001b[39m'\u001b[39m\u001b[39mx1heor9g\u001b[39m\u001b[39m'\u001b[39m\u001b[39m) and contains(@class, \u001b[39m\u001b[39m'\u001b[39m\u001b[39mxt0b8zv\u001b[39m\u001b[39m'\u001b[39m\u001b[39m) and contains(@class, \u001b[39m\u001b[39m'\u001b[39m\u001b[39mxo1l8bm\u001b[39m\u001b[39m'\u001b[39m\u001b[39m)]\u001b[39m\u001b[39m\"\u001b[39m)\n",
      "\u001b[1;31mKeyboardInterrupt\u001b[0m: "
     ]
    }
   ],
   "source": [
    "linkFacebook = \"https://www.facebook.com/\"\n",
    "searchKeywords = ['economy', 'economic', 'job market', 'unemployment', 'inflation', 'recession', 'stock market', 'GDP', 'consumer spending', 'business confidence', 'economic growth', 'fiscal policy', 'monetary policy', 'interest rates', 'income inequality', 'financial stability', 'labor market', 'economic indicators', 'economic recovery', 'cost of living', \"job loss\", \"homeless\"]\n",
    "facebookCredentials = [\"fawdaclo@gmail.com\", \"Test8dcln\"]\n",
    "searchDates = [2007,2008]\n",
    "scrappedFacebookData = {}\n",
    "\n",
    "facebookScrapper(linkFacebook, searchKeywords, facebookCredentials, scrappedFacebookData, searchDates)"
   ]
  },
  {
   "cell_type": "markdown",
   "metadata": {},
   "source": [
    "## Creating CSV File From Data"
   ]
  },
  {
   "cell_type": "code",
   "execution_count": 24,
   "metadata": {},
   "outputs": [
    {
     "name": "stdout",
     "output_type": "stream",
     "text": [
      "CSV file created successfully!\n",
      "115\n"
     ]
    }
   ],
   "source": [
    "df = pd.DataFrame.from_dict(scrappedTwitterData, orient='index')\n",
    "\n",
    "df.reset_index(inplace=True)\n",
    "# df.columns = ['username', 'tweet_date']\n",
    "\n",
    "# df[['post', 'date']] = pd.DataFrame(df['tweet_date'].tolist(), index=df.index)\n",
    "\n",
    "# df.drop(columns=['tweet_date'], inplace=True)\n",
    "\n",
    "df['platform'] = 'X/Twitter'\n",
    "\n",
    "csv_file = 'data.csv'\n",
    "df.to_csv(csv_file, index=False)\n",
    "\n",
    "print(\"CSV file created successfully!\")\n",
    "print(len(scrappedTwitterData))\n"
   ]
  }
 ],
 "metadata": {
  "kernelspec": {
   "display_name": "Python 3",
   "language": "python",
   "name": "python3"
  },
  "language_info": {
   "codemirror_mode": {
    "name": "ipython",
    "version": 3
   },
   "file_extension": ".py",
   "mimetype": "text/x-python",
   "name": "python",
   "nbconvert_exporter": "python",
   "pygments_lexer": "ipython3",
   "version": "3.12.0"
  }
 },
 "nbformat": 4,
 "nbformat_minor": 2
}
